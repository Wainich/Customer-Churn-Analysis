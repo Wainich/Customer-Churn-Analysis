{
 "cells": [
  {
   "attachments": {},
   "cell_type": "markdown",
   "metadata": {},
   "source": [
    "## Final Project Submission\n",
    "### Phase 3: Syria Tel Customer Churn \n",
    "\n",
    "Student Name:  James Wainaina\n",
    "\n",
    "Course:  Data Science Full time\n",
    "\n",
    "TMs:  Nikita Njoroge, Samuel Karu, Lucille Kaleha, Antonny Muiko\n",
    "\n",
    "\n"
   ]
  },
  {
   "attachments": {},
   "cell_type": "markdown",
   "metadata": {},
   "source": [
    "## Project Overview\n",
    "\n",
    "### Business Problem\n",
    "\n",
    "Syria Tel Company is a telecommunications company providing various services such as mobile, internet, and landline connections to customers in Syria. \n",
    "\n",
    "Customer churn, which is defined as customers quitting a service or transferring to a rival, is a worry for the business. Because it affects sales and client loyalty, churn is a major problem for the business. Your objective is to create a prediction model that can spot clients who are most likely to leave, allowing the business to take preventative action to keep them.\n",
    "\n",
    "### Data\n",
    "\n",
    "The data to be used is Syria Customer Churn from: https://www.kaggle.com/datasets/becksddf/churn-in-telecoms-dataset\n",
    "\n",
    "This is a classification problem because, churn, the target variable is boolean whic we will convert to binary values(0 and 1). \n"
   ]
  },
  {
   "cell_type": "code",
<<<<<<< HEAD
   "execution_count": 39,
=======
   "execution_count": 53,
>>>>>>> origin/master
   "metadata": {},
   "outputs": [],
   "source": [
    "# Import modules & packages\n",
    "\n",
    "# Data manipulation \n",
    "import pandas as pd \n",
    "import numpy as np \n",
    "\n",
    "# Data visualization\n",
    "import seaborn as sns \n",
    "import matplotlib.pyplot as plt \n",
    "\n",
    "\n",
    "# Modeling\n",
    "from sklearn.model_selection import train_test_split,cross_val_score,GridSearchCV #splitting the dataset into test-train\n",
    "from imblearn.over_sampling import SMOTE #SMOTE technique to deal with unbalanced data problem\n",
    "from sklearn.metrics import accuracy_score,f1_score,recall_score,precision_score,confusion_matrix,roc_curve,roc_auc_score,classification_report # performance metrics\n",
    "from sklearn.preprocessing import MinMaxScaler # to scale the numeric features\n",
    "from sklearn.preprocessing import StandardScaler\n",
    "from sklearn.metrics import plot_confusion_matrix\n",
    "from sklearn.pipeline import Pipeline\n",
<<<<<<< HEAD
    "from scipy import stats\n",
    "\n",
=======
>>>>>>> origin/master
    "\n",
    "\n",
    "\n",
    "# Algorithms for supervised learning methods\n",
    "from sklearn.tree import DecisionTreeClassifier\n",
    "from sklearn.ensemble import RandomForestClassifier\n",
    "from sklearn.linear_model import LogisticRegression\n",
    "from sklearn.neighbors import KNeighborsClassifier\n",
    "\n",
    "# Filtering future warnings\n",
    "import warnings\n",
    "warnings.filterwarnings('ignore')"
   ]
  },
  {
   "cell_type": "code",
<<<<<<< HEAD
   "execution_count": 40,
=======
   "execution_count": 54,
>>>>>>> origin/master
   "metadata": {},
   "outputs": [
    {
     "data": {
      "text/html": [
       "<div>\n",
       "<style scoped>\n",
       "    .dataframe tbody tr th:only-of-type {\n",
       "        vertical-align: middle;\n",
       "    }\n",
       "\n",
       "    .dataframe tbody tr th {\n",
       "        vertical-align: top;\n",
       "    }\n",
       "\n",
       "    .dataframe thead th {\n",
       "        text-align: right;\n",
       "    }\n",
       "</style>\n",
       "<table border=\"1\" class=\"dataframe\">\n",
       "  <thead>\n",
       "    <tr style=\"text-align: right;\">\n",
       "      <th></th>\n",
       "      <th>state</th>\n",
       "      <th>account length</th>\n",
       "      <th>area code</th>\n",
       "      <th>phone number</th>\n",
       "      <th>international plan</th>\n",
       "      <th>voice mail plan</th>\n",
       "      <th>number vmail messages</th>\n",
       "      <th>total day minutes</th>\n",
       "      <th>total day calls</th>\n",
       "      <th>total day charge</th>\n",
       "      <th>...</th>\n",
       "      <th>total eve calls</th>\n",
       "      <th>total eve charge</th>\n",
       "      <th>total night minutes</th>\n",
       "      <th>total night calls</th>\n",
       "      <th>total night charge</th>\n",
       "      <th>total intl minutes</th>\n",
       "      <th>total intl calls</th>\n",
       "      <th>total intl charge</th>\n",
       "      <th>customer service calls</th>\n",
       "      <th>churn</th>\n",
       "    </tr>\n",
       "  </thead>\n",
       "  <tbody>\n",
       "    <tr>\n",
       "      <th>0</th>\n",
       "      <td>KS</td>\n",
       "      <td>128</td>\n",
       "      <td>415</td>\n",
       "      <td>382-4657</td>\n",
       "      <td>no</td>\n",
       "      <td>yes</td>\n",
       "      <td>25</td>\n",
       "      <td>265.1</td>\n",
       "      <td>110</td>\n",
       "      <td>45.07</td>\n",
       "      <td>...</td>\n",
       "      <td>99</td>\n",
       "      <td>16.78</td>\n",
       "      <td>244.7</td>\n",
       "      <td>91</td>\n",
       "      <td>11.01</td>\n",
       "      <td>10.0</td>\n",
       "      <td>3</td>\n",
       "      <td>2.70</td>\n",
       "      <td>1</td>\n",
       "      <td>False</td>\n",
       "    </tr>\n",
       "    <tr>\n",
       "      <th>1</th>\n",
       "      <td>OH</td>\n",
       "      <td>107</td>\n",
       "      <td>415</td>\n",
       "      <td>371-7191</td>\n",
       "      <td>no</td>\n",
       "      <td>yes</td>\n",
       "      <td>26</td>\n",
       "      <td>161.6</td>\n",
       "      <td>123</td>\n",
       "      <td>27.47</td>\n",
       "      <td>...</td>\n",
       "      <td>103</td>\n",
       "      <td>16.62</td>\n",
       "      <td>254.4</td>\n",
       "      <td>103</td>\n",
       "      <td>11.45</td>\n",
       "      <td>13.7</td>\n",
       "      <td>3</td>\n",
       "      <td>3.70</td>\n",
       "      <td>1</td>\n",
       "      <td>False</td>\n",
       "    </tr>\n",
       "    <tr>\n",
       "      <th>2</th>\n",
       "      <td>NJ</td>\n",
       "      <td>137</td>\n",
       "      <td>415</td>\n",
       "      <td>358-1921</td>\n",
       "      <td>no</td>\n",
       "      <td>no</td>\n",
       "      <td>0</td>\n",
       "      <td>243.4</td>\n",
       "      <td>114</td>\n",
       "      <td>41.38</td>\n",
       "      <td>...</td>\n",
       "      <td>110</td>\n",
       "      <td>10.30</td>\n",
       "      <td>162.6</td>\n",
       "      <td>104</td>\n",
       "      <td>7.32</td>\n",
       "      <td>12.2</td>\n",
       "      <td>5</td>\n",
       "      <td>3.29</td>\n",
       "      <td>0</td>\n",
       "      <td>False</td>\n",
       "    </tr>\n",
       "    <tr>\n",
       "      <th>3</th>\n",
       "      <td>OH</td>\n",
       "      <td>84</td>\n",
       "      <td>408</td>\n",
       "      <td>375-9999</td>\n",
       "      <td>yes</td>\n",
       "      <td>no</td>\n",
       "      <td>0</td>\n",
       "      <td>299.4</td>\n",
       "      <td>71</td>\n",
       "      <td>50.90</td>\n",
       "      <td>...</td>\n",
       "      <td>88</td>\n",
       "      <td>5.26</td>\n",
       "      <td>196.9</td>\n",
       "      <td>89</td>\n",
       "      <td>8.86</td>\n",
       "      <td>6.6</td>\n",
       "      <td>7</td>\n",
       "      <td>1.78</td>\n",
       "      <td>2</td>\n",
       "      <td>False</td>\n",
       "    </tr>\n",
       "    <tr>\n",
       "      <th>4</th>\n",
       "      <td>OK</td>\n",
       "      <td>75</td>\n",
       "      <td>415</td>\n",
       "      <td>330-6626</td>\n",
       "      <td>yes</td>\n",
       "      <td>no</td>\n",
       "      <td>0</td>\n",
       "      <td>166.7</td>\n",
       "      <td>113</td>\n",
       "      <td>28.34</td>\n",
       "      <td>...</td>\n",
       "      <td>122</td>\n",
       "      <td>12.61</td>\n",
       "      <td>186.9</td>\n",
       "      <td>121</td>\n",
       "      <td>8.41</td>\n",
       "      <td>10.1</td>\n",
       "      <td>3</td>\n",
       "      <td>2.73</td>\n",
       "      <td>3</td>\n",
       "      <td>False</td>\n",
       "    </tr>\n",
       "  </tbody>\n",
       "</table>\n",
       "<p>5 rows × 21 columns</p>\n",
       "</div>"
      ],
      "text/plain": [
       "  state  account length  area code phone number international plan  \\\n",
       "0    KS             128        415     382-4657                 no   \n",
       "1    OH             107        415     371-7191                 no   \n",
       "2    NJ             137        415     358-1921                 no   \n",
       "3    OH              84        408     375-9999                yes   \n",
       "4    OK              75        415     330-6626                yes   \n",
       "\n",
       "  voice mail plan  number vmail messages  total day minutes  total day calls  \\\n",
       "0             yes                     25              265.1              110   \n",
       "1             yes                     26              161.6              123   \n",
       "2              no                      0              243.4              114   \n",
       "3              no                      0              299.4               71   \n",
       "4              no                      0              166.7              113   \n",
       "\n",
       "   total day charge  ...  total eve calls  total eve charge  \\\n",
       "0             45.07  ...               99             16.78   \n",
       "1             27.47  ...              103             16.62   \n",
       "2             41.38  ...              110             10.30   \n",
       "3             50.90  ...               88              5.26   \n",
       "4             28.34  ...              122             12.61   \n",
       "\n",
       "   total night minutes  total night calls  total night charge  \\\n",
       "0                244.7                 91               11.01   \n",
       "1                254.4                103               11.45   \n",
       "2                162.6                104                7.32   \n",
       "3                196.9                 89                8.86   \n",
       "4                186.9                121                8.41   \n",
       "\n",
       "   total intl minutes  total intl calls  total intl charge  \\\n",
       "0                10.0                 3               2.70   \n",
       "1                13.7                 3               3.70   \n",
       "2                12.2                 5               3.29   \n",
       "3                 6.6                 7               1.78   \n",
       "4                10.1                 3               2.73   \n",
       "\n",
       "   customer service calls  churn  \n",
       "0                       1  False  \n",
       "1                       1  False  \n",
       "2                       0  False  \n",
       "3                       2  False  \n",
       "4                       3  False  \n",
       "\n",
       "[5 rows x 21 columns]"
      ]
     },
<<<<<<< HEAD
     "execution_count": 40,
=======
     "execution_count": 54,
>>>>>>> origin/master
     "metadata": {},
     "output_type": "execute_result"
    }
   ],
   "source": [
    "# Read data from csv file & create dataframe. Checking the first 5 rows.\n",
    "df = pd.read_csv('Customer_churn.csv')\n",
    "df.head()"
   ]
  },
  {
   "cell_type": "code",
<<<<<<< HEAD
   "execution_count": 41,
=======
   "execution_count": 55,
>>>>>>> origin/master
   "metadata": {},
   "outputs": [
    {
     "data": {
      "text/plain": [
       "(3333, 21)"
      ]
     },
<<<<<<< HEAD
     "execution_count": 41,
=======
     "execution_count": 55,
>>>>>>> origin/master
     "metadata": {},
     "output_type": "execute_result"
    }
   ],
   "source": [
    "# Check shape of dataframe - 3333 rows and 21 columns\n",
    "df.shape"
   ]
  },
  {
   "cell_type": "code",
<<<<<<< HEAD
   "execution_count": 42,
=======
   "execution_count": 56,
>>>>>>> origin/master
   "metadata": {},
   "outputs": [
    {
     "data": {
      "text/html": [
       "<div>\n",
       "<style scoped>\n",
       "    .dataframe tbody tr th:only-of-type {\n",
       "        vertical-align: middle;\n",
       "    }\n",
       "\n",
       "    .dataframe tbody tr th {\n",
       "        vertical-align: top;\n",
       "    }\n",
       "\n",
       "    .dataframe thead th {\n",
       "        text-align: right;\n",
       "    }\n",
       "</style>\n",
       "<table border=\"1\" class=\"dataframe\">\n",
       "  <thead>\n",
       "    <tr style=\"text-align: right;\">\n",
       "      <th></th>\n",
       "      <th>account length</th>\n",
       "      <th>area code</th>\n",
       "      <th>number vmail messages</th>\n",
       "      <th>total day minutes</th>\n",
       "      <th>total day calls</th>\n",
       "      <th>total day charge</th>\n",
       "      <th>total eve minutes</th>\n",
       "      <th>total eve calls</th>\n",
       "      <th>total eve charge</th>\n",
       "      <th>total night minutes</th>\n",
       "      <th>total night calls</th>\n",
       "      <th>total night charge</th>\n",
       "      <th>total intl minutes</th>\n",
       "      <th>total intl calls</th>\n",
       "      <th>total intl charge</th>\n",
       "      <th>customer service calls</th>\n",
       "    </tr>\n",
       "  </thead>\n",
       "  <tbody>\n",
       "    <tr>\n",
       "      <th>count</th>\n",
       "      <td>3333.000000</td>\n",
       "      <td>3333.000000</td>\n",
       "      <td>3333.000000</td>\n",
       "      <td>3333.000000</td>\n",
       "      <td>3333.000000</td>\n",
       "      <td>3333.000000</td>\n",
       "      <td>3333.000000</td>\n",
       "      <td>3333.000000</td>\n",
       "      <td>3333.000000</td>\n",
       "      <td>3333.000000</td>\n",
       "      <td>3333.000000</td>\n",
       "      <td>3333.000000</td>\n",
       "      <td>3333.000000</td>\n",
       "      <td>3333.000000</td>\n",
       "      <td>3333.000000</td>\n",
       "      <td>3333.000000</td>\n",
       "    </tr>\n",
       "    <tr>\n",
       "      <th>mean</th>\n",
       "      <td>101.064806</td>\n",
       "      <td>437.182418</td>\n",
       "      <td>8.099010</td>\n",
       "      <td>179.775098</td>\n",
       "      <td>100.435644</td>\n",
       "      <td>30.562307</td>\n",
       "      <td>200.980348</td>\n",
       "      <td>100.114311</td>\n",
       "      <td>17.083540</td>\n",
       "      <td>200.872037</td>\n",
       "      <td>100.107711</td>\n",
       "      <td>9.039325</td>\n",
       "      <td>10.237294</td>\n",
       "      <td>4.479448</td>\n",
       "      <td>2.764581</td>\n",
       "      <td>1.562856</td>\n",
       "    </tr>\n",
       "    <tr>\n",
       "      <th>std</th>\n",
       "      <td>39.822106</td>\n",
       "      <td>42.371290</td>\n",
       "      <td>13.688365</td>\n",
       "      <td>54.467389</td>\n",
       "      <td>20.069084</td>\n",
       "      <td>9.259435</td>\n",
       "      <td>50.713844</td>\n",
       "      <td>19.922625</td>\n",
       "      <td>4.310668</td>\n",
       "      <td>50.573847</td>\n",
       "      <td>19.568609</td>\n",
       "      <td>2.275873</td>\n",
       "      <td>2.791840</td>\n",
       "      <td>2.461214</td>\n",
       "      <td>0.753773</td>\n",
       "      <td>1.315491</td>\n",
       "    </tr>\n",
       "    <tr>\n",
       "      <th>min</th>\n",
       "      <td>1.000000</td>\n",
       "      <td>408.000000</td>\n",
       "      <td>0.000000</td>\n",
       "      <td>0.000000</td>\n",
       "      <td>0.000000</td>\n",
       "      <td>0.000000</td>\n",
       "      <td>0.000000</td>\n",
       "      <td>0.000000</td>\n",
       "      <td>0.000000</td>\n",
       "      <td>23.200000</td>\n",
       "      <td>33.000000</td>\n",
       "      <td>1.040000</td>\n",
       "      <td>0.000000</td>\n",
       "      <td>0.000000</td>\n",
       "      <td>0.000000</td>\n",
       "      <td>0.000000</td>\n",
       "    </tr>\n",
       "    <tr>\n",
       "      <th>25%</th>\n",
       "      <td>74.000000</td>\n",
       "      <td>408.000000</td>\n",
       "      <td>0.000000</td>\n",
       "      <td>143.700000</td>\n",
       "      <td>87.000000</td>\n",
       "      <td>24.430000</td>\n",
       "      <td>166.600000</td>\n",
       "      <td>87.000000</td>\n",
       "      <td>14.160000</td>\n",
       "      <td>167.000000</td>\n",
       "      <td>87.000000</td>\n",
       "      <td>7.520000</td>\n",
       "      <td>8.500000</td>\n",
       "      <td>3.000000</td>\n",
       "      <td>2.300000</td>\n",
       "      <td>1.000000</td>\n",
       "    </tr>\n",
       "    <tr>\n",
       "      <th>50%</th>\n",
       "      <td>101.000000</td>\n",
       "      <td>415.000000</td>\n",
       "      <td>0.000000</td>\n",
       "      <td>179.400000</td>\n",
       "      <td>101.000000</td>\n",
       "      <td>30.500000</td>\n",
       "      <td>201.400000</td>\n",
       "      <td>100.000000</td>\n",
       "      <td>17.120000</td>\n",
       "      <td>201.200000</td>\n",
       "      <td>100.000000</td>\n",
       "      <td>9.050000</td>\n",
       "      <td>10.300000</td>\n",
       "      <td>4.000000</td>\n",
       "      <td>2.780000</td>\n",
       "      <td>1.000000</td>\n",
       "    </tr>\n",
       "    <tr>\n",
       "      <th>75%</th>\n",
       "      <td>127.000000</td>\n",
       "      <td>510.000000</td>\n",
       "      <td>20.000000</td>\n",
       "      <td>216.400000</td>\n",
       "      <td>114.000000</td>\n",
       "      <td>36.790000</td>\n",
       "      <td>235.300000</td>\n",
       "      <td>114.000000</td>\n",
       "      <td>20.000000</td>\n",
       "      <td>235.300000</td>\n",
       "      <td>113.000000</td>\n",
       "      <td>10.590000</td>\n",
       "      <td>12.100000</td>\n",
       "      <td>6.000000</td>\n",
       "      <td>3.270000</td>\n",
       "      <td>2.000000</td>\n",
       "    </tr>\n",
       "    <tr>\n",
       "      <th>max</th>\n",
       "      <td>243.000000</td>\n",
       "      <td>510.000000</td>\n",
       "      <td>51.000000</td>\n",
       "      <td>350.800000</td>\n",
       "      <td>165.000000</td>\n",
       "      <td>59.640000</td>\n",
       "      <td>363.700000</td>\n",
       "      <td>170.000000</td>\n",
       "      <td>30.910000</td>\n",
       "      <td>395.000000</td>\n",
       "      <td>175.000000</td>\n",
       "      <td>17.770000</td>\n",
       "      <td>20.000000</td>\n",
       "      <td>20.000000</td>\n",
       "      <td>5.400000</td>\n",
       "      <td>9.000000</td>\n",
       "    </tr>\n",
       "  </tbody>\n",
       "</table>\n",
       "</div>"
      ],
      "text/plain": [
       "       account length    area code  number vmail messages  total day minutes  \\\n",
       "count     3333.000000  3333.000000            3333.000000        3333.000000   \n",
       "mean       101.064806   437.182418               8.099010         179.775098   \n",
       "std         39.822106    42.371290              13.688365          54.467389   \n",
       "min          1.000000   408.000000               0.000000           0.000000   \n",
       "25%         74.000000   408.000000               0.000000         143.700000   \n",
       "50%        101.000000   415.000000               0.000000         179.400000   \n",
       "75%        127.000000   510.000000              20.000000         216.400000   \n",
       "max        243.000000   510.000000              51.000000         350.800000   \n",
       "\n",
       "       total day calls  total day charge  total eve minutes  total eve calls  \\\n",
       "count      3333.000000       3333.000000        3333.000000      3333.000000   \n",
       "mean        100.435644         30.562307         200.980348       100.114311   \n",
       "std          20.069084          9.259435          50.713844        19.922625   \n",
       "min           0.000000          0.000000           0.000000         0.000000   \n",
       "25%          87.000000         24.430000         166.600000        87.000000   \n",
       "50%         101.000000         30.500000         201.400000       100.000000   \n",
       "75%         114.000000         36.790000         235.300000       114.000000   \n",
       "max         165.000000         59.640000         363.700000       170.000000   \n",
       "\n",
       "       total eve charge  total night minutes  total night calls  \\\n",
       "count       3333.000000          3333.000000        3333.000000   \n",
       "mean          17.083540           200.872037         100.107711   \n",
       "std            4.310668            50.573847          19.568609   \n",
       "min            0.000000            23.200000          33.000000   \n",
       "25%           14.160000           167.000000          87.000000   \n",
       "50%           17.120000           201.200000         100.000000   \n",
       "75%           20.000000           235.300000         113.000000   \n",
       "max           30.910000           395.000000         175.000000   \n",
       "\n",
       "       total night charge  total intl minutes  total intl calls  \\\n",
       "count         3333.000000         3333.000000       3333.000000   \n",
       "mean             9.039325           10.237294          4.479448   \n",
       "std              2.275873            2.791840          2.461214   \n",
       "min              1.040000            0.000000          0.000000   \n",
       "25%              7.520000            8.500000          3.000000   \n",
       "50%              9.050000           10.300000          4.000000   \n",
       "75%             10.590000           12.100000          6.000000   \n",
       "max             17.770000           20.000000         20.000000   \n",
       "\n",
       "       total intl charge  customer service calls  \n",
       "count        3333.000000             3333.000000  \n",
       "mean            2.764581                1.562856  \n",
       "std             0.753773                1.315491  \n",
       "min             0.000000                0.000000  \n",
       "25%             2.300000                1.000000  \n",
       "50%             2.780000                1.000000  \n",
       "75%             3.270000                2.000000  \n",
       "max             5.400000                9.000000  "
      ]
     },
<<<<<<< HEAD
     "execution_count": 42,
=======
     "execution_count": 56,
>>>>>>> origin/master
     "metadata": {},
     "output_type": "execute_result"
    }
   ],
   "source": [
    "df.describe() # Concise statistical description of numeric features"
   ]
  },
  {
   "attachments": {},
   "cell_type": "markdown",
   "metadata": {},
   "source": [
    "## Data Cleaning and Preprocessing"
   ]
  },
  {
   "cell_type": "code",
<<<<<<< HEAD
   "execution_count": 43,
=======
   "execution_count": 57,
>>>>>>> origin/master
   "metadata": {},
   "outputs": [
    {
     "data": {
      "text/plain": [
       "0"
      ]
     },
<<<<<<< HEAD
     "execution_count": 43,
=======
     "execution_count": 57,
>>>>>>> origin/master
     "metadata": {},
     "output_type": "execute_result"
    }
   ],
   "source": [
    "df.duplicated().sum()"
   ]
  },
  {
   "cell_type": "code",
<<<<<<< HEAD
   "execution_count": 44,
=======
   "execution_count": 58,
>>>>>>> origin/master
   "metadata": {},
   "outputs": [
    {
     "data": {
      "text/plain": [
       "state                     0\n",
       "account length            0\n",
       "area code                 0\n",
       "phone number              0\n",
       "international plan        0\n",
       "voice mail plan           0\n",
       "number vmail messages     0\n",
       "total day minutes         0\n",
       "total day calls           0\n",
       "total day charge          0\n",
       "total eve minutes         0\n",
       "total eve calls           0\n",
       "total eve charge          0\n",
       "total night minutes       0\n",
       "total night calls         0\n",
       "total night charge        0\n",
       "total intl minutes        0\n",
       "total intl calls          0\n",
       "total intl charge         0\n",
       "customer service calls    0\n",
       "churn                     0\n",
       "dtype: int64"
      ]
     },
<<<<<<< HEAD
     "execution_count": 44,
=======
     "execution_count": 58,
>>>>>>> origin/master
     "metadata": {},
     "output_type": "execute_result"
    }
   ],
   "source": [
    "df.isnull().sum()"
   ]
  },
  {
   "cell_type": "code",
<<<<<<< HEAD
   "execution_count": 45,
=======
   "execution_count": 59,
>>>>>>> origin/master
   "metadata": {},
   "outputs": [
    {
     "data": {
      "text/html": [
       "<div>\n",
       "<style scoped>\n",
       "    .dataframe tbody tr th:only-of-type {\n",
       "        vertical-align: middle;\n",
       "    }\n",
       "\n",
       "    .dataframe tbody tr th {\n",
       "        vertical-align: top;\n",
       "    }\n",
       "\n",
       "    .dataframe thead th {\n",
       "        text-align: right;\n",
       "    }\n",
       "</style>\n",
       "<table border=\"1\" class=\"dataframe\">\n",
       "  <thead>\n",
       "    <tr style=\"text-align: right;\">\n",
       "      <th></th>\n",
       "      <th>state</th>\n",
       "      <th>account length</th>\n",
       "      <th>area code</th>\n",
       "      <th>international plan</th>\n",
       "      <th>voice mail plan</th>\n",
       "      <th>number vmail messages</th>\n",
       "      <th>total day minutes</th>\n",
       "      <th>total day calls</th>\n",
       "      <th>total day charge</th>\n",
       "      <th>total eve minutes</th>\n",
       "      <th>total eve calls</th>\n",
       "      <th>total eve charge</th>\n",
       "      <th>total night minutes</th>\n",
       "      <th>total night calls</th>\n",
       "      <th>total night charge</th>\n",
       "      <th>total intl minutes</th>\n",
       "      <th>total intl calls</th>\n",
       "      <th>total intl charge</th>\n",
       "      <th>customer service calls</th>\n",
       "      <th>churn</th>\n",
       "    </tr>\n",
       "  </thead>\n",
       "  <tbody>\n",
       "    <tr>\n",
       "      <th>0</th>\n",
       "      <td>KS</td>\n",
       "      <td>128</td>\n",
       "      <td>415</td>\n",
       "      <td>no</td>\n",
       "      <td>yes</td>\n",
       "      <td>25</td>\n",
       "      <td>265.1</td>\n",
       "      <td>110</td>\n",
       "      <td>45.07</td>\n",
       "      <td>197.4</td>\n",
       "      <td>99</td>\n",
       "      <td>16.78</td>\n",
       "      <td>244.7</td>\n",
       "      <td>91</td>\n",
       "      <td>11.01</td>\n",
       "      <td>10.0</td>\n",
       "      <td>3</td>\n",
       "      <td>2.70</td>\n",
       "      <td>1</td>\n",
       "      <td>False</td>\n",
       "    </tr>\n",
       "    <tr>\n",
       "      <th>1</th>\n",
       "      <td>OH</td>\n",
       "      <td>107</td>\n",
       "      <td>415</td>\n",
       "      <td>no</td>\n",
       "      <td>yes</td>\n",
       "      <td>26</td>\n",
       "      <td>161.6</td>\n",
       "      <td>123</td>\n",
       "      <td>27.47</td>\n",
       "      <td>195.5</td>\n",
       "      <td>103</td>\n",
       "      <td>16.62</td>\n",
       "      <td>254.4</td>\n",
       "      <td>103</td>\n",
       "      <td>11.45</td>\n",
       "      <td>13.7</td>\n",
       "      <td>3</td>\n",
       "      <td>3.70</td>\n",
       "      <td>1</td>\n",
       "      <td>False</td>\n",
       "    </tr>\n",
       "    <tr>\n",
       "      <th>2</th>\n",
       "      <td>NJ</td>\n",
       "      <td>137</td>\n",
       "      <td>415</td>\n",
       "      <td>no</td>\n",
       "      <td>no</td>\n",
       "      <td>0</td>\n",
       "      <td>243.4</td>\n",
       "      <td>114</td>\n",
       "      <td>41.38</td>\n",
       "      <td>121.2</td>\n",
       "      <td>110</td>\n",
       "      <td>10.30</td>\n",
       "      <td>162.6</td>\n",
       "      <td>104</td>\n",
       "      <td>7.32</td>\n",
       "      <td>12.2</td>\n",
       "      <td>5</td>\n",
       "      <td>3.29</td>\n",
       "      <td>0</td>\n",
       "      <td>False</td>\n",
       "    </tr>\n",
       "    <tr>\n",
       "      <th>3</th>\n",
       "      <td>OH</td>\n",
       "      <td>84</td>\n",
       "      <td>408</td>\n",
       "      <td>yes</td>\n",
       "      <td>no</td>\n",
       "      <td>0</td>\n",
       "      <td>299.4</td>\n",
       "      <td>71</td>\n",
       "      <td>50.90</td>\n",
       "      <td>61.9</td>\n",
       "      <td>88</td>\n",
       "      <td>5.26</td>\n",
       "      <td>196.9</td>\n",
       "      <td>89</td>\n",
       "      <td>8.86</td>\n",
       "      <td>6.6</td>\n",
       "      <td>7</td>\n",
       "      <td>1.78</td>\n",
       "      <td>2</td>\n",
       "      <td>False</td>\n",
       "    </tr>\n",
       "    <tr>\n",
       "      <th>4</th>\n",
       "      <td>OK</td>\n",
       "      <td>75</td>\n",
       "      <td>415</td>\n",
       "      <td>yes</td>\n",
       "      <td>no</td>\n",
       "      <td>0</td>\n",
       "      <td>166.7</td>\n",
       "      <td>113</td>\n",
       "      <td>28.34</td>\n",
       "      <td>148.3</td>\n",
       "      <td>122</td>\n",
       "      <td>12.61</td>\n",
       "      <td>186.9</td>\n",
       "      <td>121</td>\n",
       "      <td>8.41</td>\n",
       "      <td>10.1</td>\n",
       "      <td>3</td>\n",
       "      <td>2.73</td>\n",
       "      <td>3</td>\n",
       "      <td>False</td>\n",
       "    </tr>\n",
       "  </tbody>\n",
       "</table>\n",
       "</div>"
      ],
      "text/plain": [
       "  state  account length  area code international plan voice mail plan  \\\n",
       "0    KS             128        415                 no             yes   \n",
       "1    OH             107        415                 no             yes   \n",
       "2    NJ             137        415                 no              no   \n",
       "3    OH              84        408                yes              no   \n",
       "4    OK              75        415                yes              no   \n",
       "\n",
       "   number vmail messages  total day minutes  total day calls  \\\n",
       "0                     25              265.1              110   \n",
       "1                     26              161.6              123   \n",
       "2                      0              243.4              114   \n",
       "3                      0              299.4               71   \n",
       "4                      0              166.7              113   \n",
       "\n",
       "   total day charge  total eve minutes  total eve calls  total eve charge  \\\n",
       "0             45.07              197.4               99             16.78   \n",
       "1             27.47              195.5              103             16.62   \n",
       "2             41.38              121.2              110             10.30   \n",
       "3             50.90               61.9               88              5.26   \n",
       "4             28.34              148.3              122             12.61   \n",
       "\n",
       "   total night minutes  total night calls  total night charge  \\\n",
       "0                244.7                 91               11.01   \n",
       "1                254.4                103               11.45   \n",
       "2                162.6                104                7.32   \n",
       "3                196.9                 89                8.86   \n",
       "4                186.9                121                8.41   \n",
       "\n",
       "   total intl minutes  total intl calls  total intl charge  \\\n",
       "0                10.0                 3               2.70   \n",
       "1                13.7                 3               3.70   \n",
       "2                12.2                 5               3.29   \n",
       "3                 6.6                 7               1.78   \n",
       "4                10.1                 3               2.73   \n",
       "\n",
       "   customer service calls  churn  \n",
       "0                       1  False  \n",
       "1                       1  False  \n",
       "2                       0  False  \n",
       "3                       2  False  \n",
       "4                       3  False  "
      ]
     },
<<<<<<< HEAD
     "execution_count": 45,
=======
     "execution_count": 59,
>>>>>>> origin/master
     "metadata": {},
     "output_type": "execute_result"
    }
   ],
   "source": [
    "df.drop(['phone number'],axis=1,inplace=True)\n",
    "df.head()"
   ]
  },
  {
   "attachments": {},
   "cell_type": "markdown",
   "metadata": {},
   "source": [
    "## EDA"
   ]
  },
  {
   "cell_type": "code",
<<<<<<< HEAD
   "execution_count": 46,
=======
   "execution_count": 60,
>>>>>>> origin/master
   "metadata": {},
   "outputs": [
    {
     "data": {
      "text/plain": [
       "state                       51\n",
       "account length             212\n",
       "area code                    3\n",
       "international plan           2\n",
       "voice mail plan              2\n",
       "number vmail messages       46\n",
       "total day minutes         1667\n",
       "total day calls            119\n",
       "total day charge          1667\n",
       "total eve minutes         1611\n",
       "total eve calls            123\n",
       "total eve charge          1440\n",
       "total night minutes       1591\n",
       "total night calls          120\n",
       "total night charge         933\n",
       "total intl minutes         162\n",
       "total intl calls            21\n",
       "total intl charge          162\n",
       "customer service calls      10\n",
       "churn                        2\n",
       "dtype: int64"
      ]
     },
<<<<<<< HEAD
     "execution_count": 46,
=======
     "execution_count": 60,
>>>>>>> origin/master
     "metadata": {},
     "output_type": "execute_result"
    }
   ],
   "source": [
    "df.nunique()"
   ]
  },
  {
   "cell_type": "code",
<<<<<<< HEAD
   "execution_count": 47,
=======
   "execution_count": 61,
>>>>>>> origin/master
   "metadata": {},
   "outputs": [],
   "source": [
    "# Create numeric & categorical lists\n",
    "numeric_cols = ['account length','number vmail messages','total day minutes','total day calls','total day charge',\n",
    "                'total eve minutes','total eve calls','total eve charge','total night minutes','total night calls',\n",
    "                'total night charge','total intl minutes','total intl calls','total intl charge','customer service calls']\n",
    "categoric_cols = ['state','area code','international plan','voice mail plan']"
   ]
  },
  {
   "cell_type": "code",
<<<<<<< HEAD
   "execution_count": 48,
=======
   "execution_count": 62,
>>>>>>> origin/master
   "metadata": {},
   "outputs": [
    {
     "name": "stdout",
     "output_type": "stream",
     "text": [
      "False    2850\n",
      "True      483\n",
      "Name: churn, dtype: int64\n"
     ]
    },
    {
     "data": {
      "image/png": "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",
      "text/plain": [
       "<Figure size 432x288 with 1 Axes>"
      ]
     },
     "metadata": {
      "needs_background": "light"
     },
     "output_type": "display_data"
    }
   ],
   "source": [
    "print(df.churn.value_counts())\n",
    "sns.countplot(data=df, x='churn');"
   ]
  },
  {
   "cell_type": "code",
<<<<<<< HEAD
   "execution_count": 49,
=======
   "execution_count": 63,
>>>>>>> origin/master
   "metadata": {},
   "outputs": [
    {
     "data": {
      "image/png": "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",
      "text/plain": [
       "<Figure size 864x432 with 1 Axes>"
      ]
     },
     "metadata": {
      "needs_background": "light"
     },
     "output_type": "display_data"
    }
   ],
   "source": [
    "# Boxplot to see which area code has the highest churn\n",
    "plt.figure(figsize=(12,6))\n",
    "sns.boxplot(data=df,x='churn',y='customer service calls',hue='area code');\n",
    "plt.legend(loc='upper right');"
   ]
  },
  {
   "attachments": {},
   "cell_type": "markdown",
   "metadata": {},
   "source": [
    "## Feature Engineering"
   ]
  },
  {
   "attachments": {},
   "cell_type": "markdown",
   "metadata": {},
   "source": [
    "### Dropping Outliers"
   ]
  },
  {
   "cell_type": "code",
<<<<<<< HEAD
   "execution_count": 50,
=======
   "execution_count": 64,
>>>>>>> origin/master
   "metadata": {},
   "outputs": [
    {
     "name": "stdout",
     "output_type": "stream",
     "text": [
      "3169\n"
     ]
    }
   ],
   "source": [
    "def drop_numerical_outliers(df, z_thresh=3):\n",
    "    constrains = df.select_dtypes(include=[np.number]).apply(lambda x: np.abs(stats.zscore(x)) < z_thresh) \\\n",
    "        .all(axis=1)\n",
    "    df.drop(df.index[~constrains], inplace=True)\n",
    "    \n",
    "drop_numerical_outliers(df)\n",
    "print(len(df))"
   ]
  },
  {
   "cell_type": "code",
<<<<<<< HEAD
   "execution_count": 51,
=======
   "execution_count": 65,
>>>>>>> origin/master
   "metadata": {},
   "outputs": [],
   "source": [
    "df['churn'] = df['churn'].map({False:0, True:1}).astype('int')\n",
    "df['international plan'] = df['international plan'].map({'no' : 0, 'yes': 1 }).astype('int')\n",
    "df['voice mail plan'] = df['voice mail plan'].map({'yes' : 1, 'no':0 }).astype('int')"
   ]
  },
  {
   "attachments": {},
   "cell_type": "markdown",
   "metadata": {},
   "source": [
    "### One-Hot Encoding"
   ]
  },
  {
   "cell_type": "code",
<<<<<<< HEAD
   "execution_count": 52,
=======
   "execution_count": 66,
>>>>>>> origin/master
   "metadata": {},
   "outputs": [],
   "source": [
    "dummy_df_state = pd.get_dummies(df[\"state\"], dtype=np.int64)\n",
    "dummy_df_area_code = pd.get_dummies(df[\"area code\"],dtype=np.int64)\n",
    "\n",
    "\n",
    "data = pd.concat([df,dummy_df_state,dummy_df_area_code],axis=1)\n"
   ]
  },
  {
   "cell_type": "code",
<<<<<<< HEAD
   "execution_count": 53,
=======
   "execution_count": 67,
>>>>>>> origin/master
   "metadata": {},
   "outputs": [],
   "source": [
    "#data = data.drop(columns=['state, area_code'], axis=1)\n",
    "data.drop(columns=['state', 'area code'], axis=1, inplace=True)"
   ]
  },
  {
   "cell_type": "code",
<<<<<<< HEAD
   "execution_count": 54,
=======
   "execution_count": 68,
>>>>>>> origin/master
   "metadata": {},
   "outputs": [
    {
     "data": {
      "text/html": [
       "<div>\n",
       "<style scoped>\n",
       "    .dataframe tbody tr th:only-of-type {\n",
       "        vertical-align: middle;\n",
       "    }\n",
       "\n",
       "    .dataframe tbody tr th {\n",
       "        vertical-align: top;\n",
       "    }\n",
       "\n",
       "    .dataframe thead th {\n",
       "        text-align: right;\n",
       "    }\n",
       "</style>\n",
       "<table border=\"1\" class=\"dataframe\">\n",
       "  <thead>\n",
       "    <tr style=\"text-align: right;\">\n",
       "      <th></th>\n",
       "      <th>account length</th>\n",
       "      <th>international plan</th>\n",
       "      <th>voice mail plan</th>\n",
       "      <th>number vmail messages</th>\n",
       "      <th>total day minutes</th>\n",
       "      <th>total day calls</th>\n",
       "      <th>total day charge</th>\n",
       "      <th>total eve minutes</th>\n",
       "      <th>total eve calls</th>\n",
       "      <th>total eve charge</th>\n",
       "      <th>...</th>\n",
       "      <th>UT</th>\n",
       "      <th>VA</th>\n",
       "      <th>VT</th>\n",
       "      <th>WA</th>\n",
       "      <th>WI</th>\n",
       "      <th>WV</th>\n",
       "      <th>WY</th>\n",
       "      <th>408</th>\n",
       "      <th>415</th>\n",
       "      <th>510</th>\n",
       "    </tr>\n",
       "  </thead>\n",
       "  <tbody>\n",
       "    <tr>\n",
       "      <th>0</th>\n",
       "      <td>128</td>\n",
       "      <td>0</td>\n",
       "      <td>1</td>\n",
       "      <td>25</td>\n",
       "      <td>265.1</td>\n",
       "      <td>110</td>\n",
       "      <td>45.07</td>\n",
       "      <td>197.4</td>\n",
       "      <td>99</td>\n",
       "      <td>16.78</td>\n",
       "      <td>...</td>\n",
       "      <td>0</td>\n",
       "      <td>0</td>\n",
       "      <td>0</td>\n",
       "      <td>0</td>\n",
       "      <td>0</td>\n",
       "      <td>0</td>\n",
       "      <td>0</td>\n",
       "      <td>0</td>\n",
       "      <td>1</td>\n",
       "      <td>0</td>\n",
       "    </tr>\n",
       "    <tr>\n",
       "      <th>1</th>\n",
       "      <td>107</td>\n",
       "      <td>0</td>\n",
       "      <td>1</td>\n",
       "      <td>26</td>\n",
       "      <td>161.6</td>\n",
       "      <td>123</td>\n",
       "      <td>27.47</td>\n",
       "      <td>195.5</td>\n",
       "      <td>103</td>\n",
       "      <td>16.62</td>\n",
       "      <td>...</td>\n",
       "      <td>0</td>\n",
       "      <td>0</td>\n",
       "      <td>0</td>\n",
       "      <td>0</td>\n",
       "      <td>0</td>\n",
       "      <td>0</td>\n",
       "      <td>0</td>\n",
       "      <td>0</td>\n",
       "      <td>1</td>\n",
       "      <td>0</td>\n",
       "    </tr>\n",
       "    <tr>\n",
       "      <th>2</th>\n",
       "      <td>137</td>\n",
       "      <td>0</td>\n",
       "      <td>0</td>\n",
       "      <td>0</td>\n",
       "      <td>243.4</td>\n",
       "      <td>114</td>\n",
       "      <td>41.38</td>\n",
       "      <td>121.2</td>\n",
       "      <td>110</td>\n",
       "      <td>10.30</td>\n",
       "      <td>...</td>\n",
       "      <td>0</td>\n",
       "      <td>0</td>\n",
       "      <td>0</td>\n",
       "      <td>0</td>\n",
       "      <td>0</td>\n",
       "      <td>0</td>\n",
       "      <td>0</td>\n",
       "      <td>0</td>\n",
       "      <td>1</td>\n",
       "      <td>0</td>\n",
       "    </tr>\n",
       "    <tr>\n",
       "      <th>3</th>\n",
       "      <td>84</td>\n",
       "      <td>1</td>\n",
       "      <td>0</td>\n",
       "      <td>0</td>\n",
       "      <td>299.4</td>\n",
       "      <td>71</td>\n",
       "      <td>50.90</td>\n",
       "      <td>61.9</td>\n",
       "      <td>88</td>\n",
       "      <td>5.26</td>\n",
       "      <td>...</td>\n",
       "      <td>0</td>\n",
       "      <td>0</td>\n",
       "      <td>0</td>\n",
       "      <td>0</td>\n",
       "      <td>0</td>\n",
       "      <td>0</td>\n",
       "      <td>0</td>\n",
       "      <td>1</td>\n",
       "      <td>0</td>\n",
       "      <td>0</td>\n",
       "    </tr>\n",
       "    <tr>\n",
       "      <th>4</th>\n",
       "      <td>75</td>\n",
       "      <td>1</td>\n",
       "      <td>0</td>\n",
       "      <td>0</td>\n",
       "      <td>166.7</td>\n",
       "      <td>113</td>\n",
       "      <td>28.34</td>\n",
       "      <td>148.3</td>\n",
       "      <td>122</td>\n",
       "      <td>12.61</td>\n",
       "      <td>...</td>\n",
       "      <td>0</td>\n",
       "      <td>0</td>\n",
       "      <td>0</td>\n",
       "      <td>0</td>\n",
       "      <td>0</td>\n",
       "      <td>0</td>\n",
       "      <td>0</td>\n",
       "      <td>0</td>\n",
       "      <td>1</td>\n",
       "      <td>0</td>\n",
       "    </tr>\n",
       "  </tbody>\n",
       "</table>\n",
       "<p>5 rows × 72 columns</p>\n",
       "</div>"
      ],
      "text/plain": [
       "   account length  international plan  voice mail plan  number vmail messages  \\\n",
       "0             128                   0                1                     25   \n",
       "1             107                   0                1                     26   \n",
       "2             137                   0                0                      0   \n",
       "3              84                   1                0                      0   \n",
       "4              75                   1                0                      0   \n",
       "\n",
       "   total day minutes  total day calls  total day charge  total eve minutes  \\\n",
       "0              265.1              110             45.07              197.4   \n",
       "1              161.6              123             27.47              195.5   \n",
       "2              243.4              114             41.38              121.2   \n",
       "3              299.4               71             50.90               61.9   \n",
       "4              166.7              113             28.34              148.3   \n",
       "\n",
       "   total eve calls  total eve charge  ...  UT  VA  VT  WA  WI  WV  WY  408  \\\n",
       "0               99             16.78  ...   0   0   0   0   0   0   0    0   \n",
       "1              103             16.62  ...   0   0   0   0   0   0   0    0   \n",
       "2              110             10.30  ...   0   0   0   0   0   0   0    0   \n",
       "3               88              5.26  ...   0   0   0   0   0   0   0    1   \n",
       "4              122             12.61  ...   0   0   0   0   0   0   0    0   \n",
       "\n",
       "   415  510  \n",
       "0    1    0  \n",
       "1    1    0  \n",
       "2    1    0  \n",
       "3    0    0  \n",
       "4    1    0  \n",
       "\n",
       "[5 rows x 72 columns]"
      ]
     },
<<<<<<< HEAD
     "execution_count": 54,
=======
     "execution_count": 68,
>>>>>>> origin/master
     "metadata": {},
     "output_type": "execute_result"
    }
   ],
   "source": [
    "data.head()"
   ]
  },
  {
   "attachments": {},
   "cell_type": "markdown",
   "metadata": {},
   "source": [
    "### Scaling Numerical Features"
   ]
  },
  {
   "cell_type": "code",
<<<<<<< HEAD
   "execution_count": 55,
=======
   "execution_count": 69,
>>>>>>> origin/master
   "metadata": {},
   "outputs": [
    {
     "data": {
      "text/html": [
       "<div>\n",
       "<style scoped>\n",
       "    .dataframe tbody tr th:only-of-type {\n",
       "        vertical-align: middle;\n",
       "    }\n",
       "\n",
       "    .dataframe tbody tr th {\n",
       "        vertical-align: top;\n",
       "    }\n",
       "\n",
       "    .dataframe thead th {\n",
       "        text-align: right;\n",
       "    }\n",
       "</style>\n",
       "<table border=\"1\" class=\"dataframe\">\n",
       "  <thead>\n",
       "    <tr style=\"text-align: right;\">\n",
       "      <th></th>\n",
       "      <th>account length</th>\n",
       "      <th>international plan</th>\n",
       "      <th>voice mail plan</th>\n",
       "      <th>number vmail messages</th>\n",
       "      <th>total day minutes</th>\n",
       "      <th>total day calls</th>\n",
       "      <th>total day charge</th>\n",
       "      <th>total eve minutes</th>\n",
       "      <th>total eve calls</th>\n",
       "      <th>total eve charge</th>\n",
       "      <th>...</th>\n",
       "      <th>UT</th>\n",
       "      <th>VA</th>\n",
       "      <th>VT</th>\n",
       "      <th>WA</th>\n",
       "      <th>WI</th>\n",
       "      <th>WV</th>\n",
       "      <th>WY</th>\n",
       "      <th>408</th>\n",
       "      <th>415</th>\n",
       "      <th>510</th>\n",
       "    </tr>\n",
       "  </thead>\n",
       "  <tbody>\n",
       "    <tr>\n",
       "      <th>0</th>\n",
       "      <td>128</td>\n",
       "      <td>0</td>\n",
       "      <td>1</td>\n",
       "      <td>25</td>\n",
       "      <td>265.1</td>\n",
       "      <td>110</td>\n",
       "      <td>45.07</td>\n",
       "      <td>197.4</td>\n",
       "      <td>99</td>\n",
       "      <td>16.78</td>\n",
       "      <td>...</td>\n",
       "      <td>0</td>\n",
       "      <td>0</td>\n",
       "      <td>0</td>\n",
       "      <td>0</td>\n",
       "      <td>0</td>\n",
       "      <td>0</td>\n",
       "      <td>0</td>\n",
       "      <td>0</td>\n",
       "      <td>1</td>\n",
       "      <td>0</td>\n",
       "    </tr>\n",
       "    <tr>\n",
       "      <th>1</th>\n",
       "      <td>107</td>\n",
       "      <td>0</td>\n",
       "      <td>1</td>\n",
       "      <td>26</td>\n",
       "      <td>161.6</td>\n",
       "      <td>123</td>\n",
       "      <td>27.47</td>\n",
       "      <td>195.5</td>\n",
       "      <td>103</td>\n",
       "      <td>16.62</td>\n",
       "      <td>...</td>\n",
       "      <td>0</td>\n",
       "      <td>0</td>\n",
       "      <td>0</td>\n",
       "      <td>0</td>\n",
       "      <td>0</td>\n",
       "      <td>0</td>\n",
       "      <td>0</td>\n",
       "      <td>0</td>\n",
       "      <td>1</td>\n",
       "      <td>0</td>\n",
       "    </tr>\n",
       "    <tr>\n",
       "      <th>2</th>\n",
       "      <td>137</td>\n",
       "      <td>0</td>\n",
       "      <td>0</td>\n",
       "      <td>0</td>\n",
       "      <td>243.4</td>\n",
       "      <td>114</td>\n",
       "      <td>41.38</td>\n",
       "      <td>121.2</td>\n",
       "      <td>110</td>\n",
       "      <td>10.30</td>\n",
       "      <td>...</td>\n",
       "      <td>0</td>\n",
       "      <td>0</td>\n",
       "      <td>0</td>\n",
       "      <td>0</td>\n",
       "      <td>0</td>\n",
       "      <td>0</td>\n",
       "      <td>0</td>\n",
       "      <td>0</td>\n",
       "      <td>1</td>\n",
       "      <td>0</td>\n",
       "    </tr>\n",
       "    <tr>\n",
       "      <th>3</th>\n",
       "      <td>84</td>\n",
       "      <td>1</td>\n",
       "      <td>0</td>\n",
       "      <td>0</td>\n",
       "      <td>299.4</td>\n",
       "      <td>71</td>\n",
       "      <td>50.90</td>\n",
       "      <td>61.9</td>\n",
       "      <td>88</td>\n",
       "      <td>5.26</td>\n",
       "      <td>...</td>\n",
       "      <td>0</td>\n",
       "      <td>0</td>\n",
       "      <td>0</td>\n",
       "      <td>0</td>\n",
       "      <td>0</td>\n",
       "      <td>0</td>\n",
       "      <td>0</td>\n",
       "      <td>1</td>\n",
       "      <td>0</td>\n",
       "      <td>0</td>\n",
       "    </tr>\n",
       "    <tr>\n",
       "      <th>4</th>\n",
       "      <td>75</td>\n",
       "      <td>1</td>\n",
       "      <td>0</td>\n",
       "      <td>0</td>\n",
       "      <td>166.7</td>\n",
       "      <td>113</td>\n",
       "      <td>28.34</td>\n",
       "      <td>148.3</td>\n",
       "      <td>122</td>\n",
       "      <td>12.61</td>\n",
       "      <td>...</td>\n",
       "      <td>0</td>\n",
       "      <td>0</td>\n",
       "      <td>0</td>\n",
       "      <td>0</td>\n",
       "      <td>0</td>\n",
       "      <td>0</td>\n",
       "      <td>0</td>\n",
       "      <td>0</td>\n",
       "      <td>1</td>\n",
       "      <td>0</td>\n",
       "    </tr>\n",
       "    <tr>\n",
       "      <th>...</th>\n",
       "      <td>...</td>\n",
       "      <td>...</td>\n",
       "      <td>...</td>\n",
       "      <td>...</td>\n",
       "      <td>...</td>\n",
       "      <td>...</td>\n",
       "      <td>...</td>\n",
       "      <td>...</td>\n",
       "      <td>...</td>\n",
       "      <td>...</td>\n",
       "      <td>...</td>\n",
       "      <td>...</td>\n",
       "      <td>...</td>\n",
       "      <td>...</td>\n",
       "      <td>...</td>\n",
       "      <td>...</td>\n",
       "      <td>...</td>\n",
       "      <td>...</td>\n",
       "      <td>...</td>\n",
       "      <td>...</td>\n",
       "      <td>...</td>\n",
       "    </tr>\n",
       "    <tr>\n",
       "      <th>3328</th>\n",
       "      <td>192</td>\n",
       "      <td>0</td>\n",
       "      <td>1</td>\n",
       "      <td>36</td>\n",
       "      <td>156.2</td>\n",
       "      <td>77</td>\n",
       "      <td>26.55</td>\n",
       "      <td>215.5</td>\n",
       "      <td>126</td>\n",
       "      <td>18.32</td>\n",
       "      <td>...</td>\n",
       "      <td>0</td>\n",
       "      <td>0</td>\n",
       "      <td>0</td>\n",
       "      <td>0</td>\n",
       "      <td>0</td>\n",
       "      <td>0</td>\n",
       "      <td>0</td>\n",
       "      <td>0</td>\n",
       "      <td>1</td>\n",
       "      <td>0</td>\n",
       "    </tr>\n",
       "    <tr>\n",
       "      <th>3329</th>\n",
       "      <td>68</td>\n",
       "      <td>0</td>\n",
       "      <td>0</td>\n",
       "      <td>0</td>\n",
       "      <td>231.1</td>\n",
       "      <td>57</td>\n",
       "      <td>39.29</td>\n",
       "      <td>153.4</td>\n",
       "      <td>55</td>\n",
       "      <td>13.04</td>\n",
       "      <td>...</td>\n",
       "      <td>0</td>\n",
       "      <td>0</td>\n",
       "      <td>0</td>\n",
       "      <td>0</td>\n",
       "      <td>0</td>\n",
       "      <td>1</td>\n",
       "      <td>0</td>\n",
       "      <td>0</td>\n",
       "      <td>1</td>\n",
       "      <td>0</td>\n",
       "    </tr>\n",
       "    <tr>\n",
       "      <th>3330</th>\n",
       "      <td>28</td>\n",
       "      <td>0</td>\n",
       "      <td>0</td>\n",
       "      <td>0</td>\n",
       "      <td>180.8</td>\n",
       "      <td>109</td>\n",
       "      <td>30.74</td>\n",
       "      <td>288.8</td>\n",
       "      <td>58</td>\n",
       "      <td>24.55</td>\n",
       "      <td>...</td>\n",
       "      <td>0</td>\n",
       "      <td>0</td>\n",
       "      <td>0</td>\n",
       "      <td>0</td>\n",
       "      <td>0</td>\n",
       "      <td>0</td>\n",
       "      <td>0</td>\n",
       "      <td>0</td>\n",
       "      <td>0</td>\n",
       "      <td>1</td>\n",
       "    </tr>\n",
       "    <tr>\n",
       "      <th>3331</th>\n",
       "      <td>184</td>\n",
       "      <td>1</td>\n",
       "      <td>0</td>\n",
       "      <td>0</td>\n",
       "      <td>213.8</td>\n",
       "      <td>105</td>\n",
       "      <td>36.35</td>\n",
       "      <td>159.6</td>\n",
       "      <td>84</td>\n",
       "      <td>13.57</td>\n",
       "      <td>...</td>\n",
       "      <td>0</td>\n",
       "      <td>0</td>\n",
       "      <td>0</td>\n",
       "      <td>0</td>\n",
       "      <td>0</td>\n",
       "      <td>0</td>\n",
       "      <td>0</td>\n",
       "      <td>0</td>\n",
       "      <td>0</td>\n",
       "      <td>1</td>\n",
       "    </tr>\n",
       "    <tr>\n",
       "      <th>3332</th>\n",
       "      <td>74</td>\n",
       "      <td>0</td>\n",
       "      <td>1</td>\n",
       "      <td>25</td>\n",
       "      <td>234.4</td>\n",
       "      <td>113</td>\n",
       "      <td>39.85</td>\n",
       "      <td>265.9</td>\n",
       "      <td>82</td>\n",
       "      <td>22.60</td>\n",
       "      <td>...</td>\n",
       "      <td>0</td>\n",
       "      <td>0</td>\n",
       "      <td>0</td>\n",
       "      <td>0</td>\n",
       "      <td>0</td>\n",
       "      <td>0</td>\n",
       "      <td>0</td>\n",
       "      <td>0</td>\n",
       "      <td>1</td>\n",
       "      <td>0</td>\n",
       "    </tr>\n",
       "  </tbody>\n",
       "</table>\n",
       "<p>3169 rows × 72 columns</p>\n",
       "</div>"
      ],
      "text/plain": [
       "      account length  international plan  voice mail plan  \\\n",
       "0                128                   0                1   \n",
       "1                107                   0                1   \n",
       "2                137                   0                0   \n",
       "3                 84                   1                0   \n",
       "4                 75                   1                0   \n",
       "...              ...                 ...              ...   \n",
       "3328             192                   0                1   \n",
       "3329              68                   0                0   \n",
       "3330              28                   0                0   \n",
       "3331             184                   1                0   \n",
       "3332              74                   0                1   \n",
       "\n",
       "      number vmail messages  total day minutes  total day calls  \\\n",
       "0                        25              265.1              110   \n",
       "1                        26              161.6              123   \n",
       "2                         0              243.4              114   \n",
       "3                         0              299.4               71   \n",
       "4                         0              166.7              113   \n",
       "...                     ...                ...              ...   \n",
       "3328                     36              156.2               77   \n",
       "3329                      0              231.1               57   \n",
       "3330                      0              180.8              109   \n",
       "3331                      0              213.8              105   \n",
       "3332                     25              234.4              113   \n",
       "\n",
       "      total day charge  total eve minutes  total eve calls  total eve charge  \\\n",
       "0                45.07              197.4               99             16.78   \n",
       "1                27.47              195.5              103             16.62   \n",
       "2                41.38              121.2              110             10.30   \n",
       "3                50.90               61.9               88              5.26   \n",
       "4                28.34              148.3              122             12.61   \n",
       "...                ...                ...              ...               ...   \n",
       "3328             26.55              215.5              126             18.32   \n",
       "3329             39.29              153.4               55             13.04   \n",
       "3330             30.74              288.8               58             24.55   \n",
       "3331             36.35              159.6               84             13.57   \n",
       "3332             39.85              265.9               82             22.60   \n",
       "\n",
       "      ...  UT  VA  VT  WA  WI  WV  WY  408  415  510  \n",
       "0     ...   0   0   0   0   0   0   0    0    1    0  \n",
       "1     ...   0   0   0   0   0   0   0    0    1    0  \n",
       "2     ...   0   0   0   0   0   0   0    0    1    0  \n",
       "3     ...   0   0   0   0   0   0   0    1    0    0  \n",
       "4     ...   0   0   0   0   0   0   0    0    1    0  \n",
       "...   ...  ..  ..  ..  ..  ..  ..  ..  ...  ...  ...  \n",
       "3328  ...   0   0   0   0   0   0   0    0    1    0  \n",
       "3329  ...   0   0   0   0   0   1   0    0    1    0  \n",
       "3330  ...   0   0   0   0   0   0   0    0    0    1  \n",
       "3331  ...   0   0   0   0   0   0   0    0    0    1  \n",
       "3332  ...   0   0   0   0   0   0   0    0    1    0  \n",
       "\n",
       "[3169 rows x 72 columns]"
      ]
     },
<<<<<<< HEAD
     "execution_count": 55,
=======
     "execution_count": 69,
>>>>>>> origin/master
     "metadata": {},
     "output_type": "execute_result"
    }
   ],
   "source": [
    "scaler = MinMaxScaler()\n",
    "scaler.fit_transform(data.values).reshape(-1,1)\n",
    "data"
   ]
  },
  {
   "attachments": {},
   "cell_type": "markdown",
   "metadata": {},
   "source": [
    "### Train-Test Split"
   ]
  },
  {
   "cell_type": "code",
<<<<<<< HEAD
   "execution_count": 56,
=======
   "execution_count": 70,
>>>>>>> origin/master
   "metadata": {},
   "outputs": [],
   "source": [
    "X=data.drop(['churn'],axis=1)\n",
    "y=data['churn']\n",
    "\n",
    "X_train,X_test,y_train,y_test = train_test_split(X,y,random_state=42)"
   ]
  },
  {
   "attachments": {},
   "cell_type": "markdown",
   "metadata": {},
   "source": [
    "### Applying SMOTE for churn column because it is an imbalanced class"
   ]
  },
  {
   "cell_type": "code",
<<<<<<< HEAD
   "execution_count": 57,
=======
   "execution_count": 71,
>>>>>>> origin/master
   "metadata": {},
   "outputs": [
    {
     "data": {
      "text/plain": [
       "0    2727\n",
       "1     442\n",
       "Name: churn, dtype: int64"
      ]
     },
<<<<<<< HEAD
     "execution_count": 57,
=======
     "execution_count": 71,
>>>>>>> origin/master
     "metadata": {},
     "output_type": "execute_result"
    }
   ],
   "source": [
    "data['churn'].value_counts()"
   ]
  },
  {
   "cell_type": "code",
<<<<<<< HEAD
   "execution_count": 58,
=======
   "execution_count": 72,
>>>>>>> origin/master
   "metadata": {},
   "outputs": [],
   "source": [
    "sm = SMOTE(k_neighbors=5, random_state=42)\n",
    "X_train_sm, y_train_sm = sm.fit_resample(X_train, y_train)"
   ]
  },
  {
   "cell_type": "code",
<<<<<<< HEAD
   "execution_count": 59,
=======
   "execution_count": 73,
>>>>>>> origin/master
   "metadata": {},
   "outputs": [
    {
     "data": {
      "text/plain": [
       "1    2051\n",
       "0    2051\n",
       "Name: churn, dtype: int64"
      ]
     },
<<<<<<< HEAD
     "execution_count": 59,
=======
     "execution_count": 73,
>>>>>>> origin/master
     "metadata": {},
     "output_type": "execute_result"
    }
   ],
   "source": [
    "y_train_sm.value_counts()"
   ]
  },
  {
   "attachments": {},
   "cell_type": "markdown",
   "metadata": {},
   "source": [
    "## Model Selection and Training and Evaluation"
   ]
  },
  {
   "attachments": {},
   "cell_type": "markdown",
   "metadata": {},
   "source": [
    "### 1. Logistic Regression"
   ]
  },
  {
   "cell_type": "code",
<<<<<<< HEAD
   "execution_count": 60,
=======
   "execution_count": 74,
>>>>>>> origin/master
   "metadata": {},
   "outputs": [],
   "source": [
    "lr= LogisticRegression()\n",
    "lr.fit(X_train_sm,y_train_sm) \n",
    "y_pred_lr = lr.predict(X_test) "
   ]
  },
  {
   "cell_type": "code",
<<<<<<< HEAD
   "execution_count": 61,
=======
   "execution_count": 75,
>>>>>>> origin/master
   "metadata": {},
   "outputs": [
    {
     "name": "stdout",
     "output_type": "stream",
     "text": [
      "              precision    recall  f1-score   support\n",
      "\n",
      "           0       0.92      0.72      0.81       676\n",
      "           1       0.28      0.62      0.38       117\n",
      "\n",
      "    accuracy                           0.71       793\n",
      "   macro avg       0.60      0.67      0.60       793\n",
      "weighted avg       0.82      0.71      0.75       793\n",
      "\n",
      "Accuracy score for testing set:  0.7074401008827238\n",
      "F1 score for testing set:  0.3829787234042553\n",
      "Recall score for testing set:  0.6153846153846154\n",
      "Precision score for testing set:  0.277992277992278\n"
     ]
    }
   ],
   "source": [
    "print(classification_report(y_test, y_pred_lr))\n",
    "print('Accuracy score for testing set: ',accuracy_score(y_test,y_pred_lr))\n",
    "print('F1 score for testing set: ',f1_score(y_test,y_pred_lr))\n",
    "print('Recall score for testing set: ',recall_score(y_test,y_pred_lr))\n",
    "print('Precision score for testing set: ',precision_score(y_test,y_pred_lr))"
   ]
  },
  {
   "cell_type": "code",
<<<<<<< HEAD
   "execution_count": 62,
=======
   "execution_count": 76,
>>>>>>> origin/master
   "metadata": {},
   "outputs": [
    {
     "data": {
      "text/plain": [
       "array([[489, 187],\n",
       "       [ 45,  72]])"
      ]
     },
<<<<<<< HEAD
     "execution_count": 62,
=======
     "execution_count": 76,
>>>>>>> origin/master
     "metadata": {},
     "output_type": "execute_result"
    }
   ],
   "source": [
    "cm_lr = confusion_matrix(y_test, y_pred_lr)\n",
    "cm_lr"
   ]
  },
  {
   "cell_type": "code",
<<<<<<< HEAD
   "execution_count": 63,
=======
   "execution_count": 77,
>>>>>>> origin/master
   "metadata": {},
   "outputs": [
    {
     "data": {
      "image/png": "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",
      "text/plain": [
       "<Figure size 360x216 with 2 Axes>"
      ]
     },
     "metadata": {
      "needs_background": "light"
     },
     "output_type": "display_data"
    }
   ],
   "source": [
    "f, ax= plt.subplots(1,1,figsize=(5,3))\n",
    "sns.heatmap(cm_lr, annot=True, cmap='Blues', fmt='g', ax=ax)\n",
    "ax.set_xlabel('Predicted Labels'); ax.set_ylabel('True Labels') ; ax.set_title('Confusion Matrix')\n",
    "ax.xaxis.set_ticklabels(['0', '1']) ; ax.yaxis.set_ticklabels(['0', '1'])\n",
    "plt.show();"
   ]
  },
  {
   "attachments": {},
   "cell_type": "markdown",
   "metadata": {},
   "source": [
    "Model accuracy is 70% which is quite good. The F1 score is 38% which means the model's performance is relatively low on precision and recall."
   ]
  },
  {
   "attachments": {},
   "cell_type": "markdown",
   "metadata": {},
   "source": [
    "### 2. Decision Tree"
   ]
  },
  {
   "cell_type": "code",
<<<<<<< HEAD
   "execution_count": 64,
=======
   "execution_count": 78,
>>>>>>> origin/master
   "metadata": {},
   "outputs": [],
   "source": [
    "decision_tree = DecisionTreeClassifier()\n",
    "decision_tree.fit(X_train_sm,y_train_sm)\n",
    "y_pred_dt = decision_tree.predict(X_test)"
   ]
  },
  {
   "cell_type": "code",
<<<<<<< HEAD
   "execution_count": 65,
=======
   "execution_count": 79,
>>>>>>> origin/master
   "metadata": {},
   "outputs": [
    {
     "name": "stdout",
     "output_type": "stream",
     "text": [
      "              precision    recall  f1-score   support\n",
      "\n",
      "           0       0.95      0.87      0.91       676\n",
      "           1       0.49      0.71      0.58       117\n",
      "\n",
      "    accuracy                           0.85       793\n",
<<<<<<< HEAD
      "   macro avg       0.72      0.79      0.74       793\n",
      "weighted avg       0.88      0.85      0.86       793\n",
      "\n",
      "Accuracy score for testing set:  0.8486759142496847\n",
      "F1 score for testing set:  0.5804195804195804\n",
      "Recall score for testing set:  0.7094017094017094\n",
      "Precision score for testing set:  0.4911242603550296\n"
=======
      "   macro avg       0.72      0.79      0.75       793\n",
      "weighted avg       0.88      0.85      0.86       793\n",
      "\n",
      "Accuracy score for testing set:  0.849936948297604\n",
      "F1 score for testing set:  0.5824561403508771\n",
      "Recall score for testing set:  0.7094017094017094\n",
      "Precision score for testing set:  0.49404761904761907\n"
>>>>>>> origin/master
     ]
    }
   ],
   "source": [
    "print(classification_report(y_test, y_pred_dt))\n",
    "print('Accuracy score for testing set: ',accuracy_score(y_test,y_pred_dt))\n",
    "print('F1 score for testing set: ',f1_score(y_test,y_pred_dt))\n",
    "print('Recall score for testing set: ',recall_score(y_test,y_pred_dt))\n",
    "print('Precision score for testing set: ',precision_score(y_test,y_pred_dt))\n"
   ]
  },
  {
   "cell_type": "code",
<<<<<<< HEAD
   "execution_count": 66,
=======
   "execution_count": 80,
>>>>>>> origin/master
   "metadata": {},
   "outputs": [
    {
     "data": {
<<<<<<< HEAD
      "image/png": "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",
=======
      "image/png": "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",
>>>>>>> origin/master
      "text/plain": [
       "<Figure size 360x216 with 2 Axes>"
      ]
     },
     "metadata": {
      "needs_background": "light"
     },
     "output_type": "display_data"
    }
   ],
   "source": [
    "cm_dt = confusion_matrix(y_test, y_pred_dt)\n",
    "f, ax= plt.subplots(1,1,figsize=(5,3))\n",
    "sns.heatmap(cm_dt, annot=True, cmap='Greens', fmt='g', ax=ax)\n",
    "ax.set_xlabel('Predicted Labels'); ax.set_ylabel('True Labels') ; ax.set_title('Confusion Matrix')\n",
    "ax.xaxis.set_ticklabels(['0', '1']) ; ax.yaxis.set_ticklabels(['0', '1'])\n",
    "plt.show();"
   ]
  },
  {
   "attachments": {},
   "cell_type": "markdown",
   "metadata": {},
   "source": [
    "For this model, the accuracy score and the f1score has both increased"
   ]
  },
  {
   "attachments": {},
   "cell_type": "markdown",
   "metadata": {},
   "source": [
    "### 3. Random Forest "
   ]
  },
  {
   "cell_type": "code",
<<<<<<< HEAD
   "execution_count": 67,
=======
   "execution_count": 81,
>>>>>>> origin/master
   "metadata": {},
   "outputs": [],
   "source": [
    "randomf = RandomForestClassifier() \n",
    "randomf.fit(X_train_sm,y_train_sm) \n",
    "y_pred_rf = randomf.predict(X_test)"
   ]
  },
  {
   "cell_type": "code",
<<<<<<< HEAD
   "execution_count": 68,
=======
   "execution_count": 82,
>>>>>>> origin/master
   "metadata": {},
   "outputs": [
    {
     "name": "stdout",
     "output_type": "stream",
     "text": [
      "              precision    recall  f1-score   support\n",
      "\n",
<<<<<<< HEAD
      "           0       0.93      0.97      0.95       676\n",
      "           1       0.76      0.56      0.64       117\n",
      "\n",
      "    accuracy                           0.91       793\n",
      "   macro avg       0.85      0.76      0.80       793\n",
      "weighted avg       0.90      0.91      0.90       793\n",
      "\n",
      "Accuracy score for testing set:  0.9092055485498108\n",
      "F1 score for testing set:  0.6435643564356436\n",
      "Recall score for testing set:  0.5555555555555556\n",
      "Precision score for testing set:  0.7647058823529411\n"
=======
      "           0       0.92      0.98      0.95       676\n",
      "           1       0.81      0.54      0.65       117\n",
      "\n",
      "    accuracy                           0.91       793\n",
      "   macro avg       0.87      0.76      0.80       793\n",
      "weighted avg       0.91      0.91      0.91       793\n",
      "\n",
      "Accuracy score for testing set:  0.9129886506935687\n",
      "F1 score for testing set:  0.6461538461538461\n",
      "Recall score for testing set:  0.5384615384615384\n",
      "Precision score for testing set:  0.8076923076923077\n"
>>>>>>> origin/master
     ]
    }
   ],
   "source": [
    "print(classification_report(y_test, y_pred_rf))\n",
    "print('Accuracy score for testing set: ',accuracy_score(y_test,y_pred_rf))\n",
    "print('F1 score for testing set: ',f1_score(y_test,y_pred_rf))\n",
    "print('Recall score for testing set: ',recall_score(y_test,y_pred_rf))\n",
    "print('Precision score for testing set: ',precision_score(y_test,y_pred_rf))\n"
   ]
  },
  {
   "cell_type": "code",
<<<<<<< HEAD
   "execution_count": 69,
=======
   "execution_count": 83,
>>>>>>> origin/master
   "metadata": {},
   "outputs": [
    {
     "data": {
<<<<<<< HEAD
      "image/png": "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",
=======
      "image/png": "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",
>>>>>>> origin/master
      "text/plain": [
       "<Figure size 360x216 with 2 Axes>"
      ]
     },
     "metadata": {
      "needs_background": "light"
     },
     "output_type": "display_data"
    }
   ],
   "source": [
    "cm_rf = confusion_matrix(y_test, y_pred_rf)\n",
    "f, ax= plt.subplots(1,1,figsize=(5,3))\n",
    "sns.heatmap(cm_rf, annot=True, cmap='Reds', fmt='g', ax=ax)\n",
    "ax.set_xlabel('Predicted Labels'); ax.set_ylabel('True Labels') ; ax.set_title('Confusion Matrix')\n",
    "ax.xaxis.set_ticklabels(['0', '1']) ; ax.yaxis.set_ticklabels(['0', '1'])\n",
    "plt.show();"
   ]
  },
  {
   "attachments": {},
   "cell_type": "markdown",
   "metadata": {},
   "source": [
    "This model has the best results, F1 score and accuracy have improved to 92% and 66% respectively."
   ]
  },
  {
   "attachments": {},
   "cell_type": "markdown",
   "metadata": {},
   "source": [
    "## Model Comparison using ROC and AUC curves"
   ]
  },
  {
   "cell_type": "code",
<<<<<<< HEAD
   "execution_count": 70,
=======
   "execution_count": 84,
>>>>>>> origin/master
   "metadata": {},
   "outputs": [
    {
     "data": {
<<<<<<< HEAD
      "image/png": "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",
=======
      "image/png": "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",
>>>>>>> origin/master
      "text/plain": [
       "<Figure size 576x432 with 1 Axes>"
      ]
     },
     "metadata": {
      "needs_background": "light"
     },
     "output_type": "display_data"
    }
   ],
   "source": [
    "classifiers = [LogisticRegression(),\n",
    "               RandomForestClassifier(),\n",
    "               DecisionTreeClassifier()]\n",
    "\n",
    "\n",
    "# Define a result table as a DataFrame\n",
    "result_table = pd.DataFrame(columns=['classifiers', 'fpr','tpr','auc'])\n",
    "\n",
    "# Train the models and record the results\n",
    "for cls in classifiers:\n",
    "    model = cls.fit(X_train_sm, y_train_sm)\n",
    "    yproba = model.predict_proba(X_test)[::,1]\n",
    "    \n",
    "    fpr, tpr, _ = roc_curve(y_test,  yproba)\n",
    "    auc = roc_auc_score(y_test, yproba)\n",
    "    \n",
    "    result_table = result_table.append({'classifiers':cls.__class__.__name__,\n",
    "                                        'fpr':fpr, \n",
    "                                        'tpr':tpr, \n",
    "                                        'auc':auc}, ignore_index=True)\n",
    "\n",
    "# Set name of the classifiers as index labels\n",
    "result_table.set_index('classifiers', inplace=True)\n",
    "\n",
    "fig = plt.figure(figsize=(8,6))\n",
    "\n",
    "for i in result_table.index:\n",
    "    plt.plot(result_table.loc[i]['fpr'], \n",
    "             result_table.loc[i]['tpr'], \n",
    "             label=\"{}, AUC={:.3f}\".format(i, result_table.loc[i]['auc']))\n",
    "    \n",
    "plt.plot([0,1], [0,1], color='orange', linestyle='--')\n",
    "\n",
    "plt.xticks(np.arange(0.0, 1.1, step=0.1))\n",
    "plt.xlabel(\"False Positive Rate\", fontsize=15)\n",
    "\n",
    "plt.yticks(np.arange(0.0, 1.1, step=0.1))\n",
    "plt.ylabel(\"True Positive Rate\", fontsize=15)\n",
    "\n",
    "plt.title('ROC Curve Analysis', fontweight='bold', fontsize=15)\n",
    "plt.legend(prop={'size':13}, loc='lower right')\n",
    "\n",
    "plt.show()"
   ]
  },
  {
   "attachments": {},
   "cell_type": "markdown",
   "metadata": {},
   "source": [
    "Random Forest Classifier curve is the best model since it has a higher value AUC, it also approaches the upper left corner."
   ]
  },
  {
   "attachments": {},
   "cell_type": "markdown",
   "metadata": {},
   "source": [
    "## Model Tuning and Optimization\n",
    "\n",
    "### Random Forest"
   ]
  },
  {
   "cell_type": "code",
<<<<<<< HEAD
   "execution_count": 71,
=======
   "execution_count": 85,
>>>>>>> origin/master
   "metadata": {},
   "outputs": [],
   "source": [
    "rf_params = {\"max_depth\": [8,15,20],\n",
    "             \"n_estimators\":[500,1000],\n",
    "             \"min_samples_split\":[5,10,15],\n",
    "             \"criterion\":['entropy','gini']}\n"
   ]
  },
  {
   "cell_type": "code",
<<<<<<< HEAD
   "execution_count": 72,
=======
   "execution_count": 86,
>>>>>>> origin/master
   "metadata": {},
   "outputs": [
    {
     "name": "stdout",
     "output_type": "stream",
     "text": [
<<<<<<< HEAD
      "{'criterion': 'gini', 'max_depth': 20, 'min_samples_split': 5, 'n_estimators': 500}\n"
=======
      "{'criterion': 'entropy', 'max_depth': 20, 'min_samples_split': 5, 'n_estimators': 500}\n"
>>>>>>> origin/master
     ]
    }
   ],
   "source": [
    "rf_cv_model = GridSearchCV(randomf,rf_params,cv=3,n_jobs=-1,verbose=False)\n",
    "rf_cv_model.fit(X_train_sm,y_train_sm)\n",
    "print(rf_cv_model.best_params_)\n"
   ]
  },
  {
   "cell_type": "code",
<<<<<<< HEAD
   "execution_count": 73,
=======
   "execution_count": 87,
>>>>>>> origin/master
   "metadata": {},
   "outputs": [],
   "source": [
    "randomf2 = RandomForestClassifier(max_depth=20,min_samples_split=5,n_estimators=500,criterion='entropy')\n",
    "randomf2.fit(X_train_sm,y_train_sm)\n",
    "y_pred_f2 = randomf2.predict(X_test)"
   ]
  },
  {
   "cell_type": "code",
<<<<<<< HEAD
   "execution_count": 74,
=======
   "execution_count": 88,
>>>>>>> origin/master
   "metadata": {},
   "outputs": [
    {
     "name": "stdout",
     "output_type": "stream",
     "text": [
      "              precision    recall  f1-score   support\n",
      "\n",
<<<<<<< HEAD
      "           0       0.93      0.98      0.95       676\n",
      "           1       0.82      0.55      0.66       117\n",
      "\n",
      "    accuracy                           0.92       793\n",
      "   macro avg       0.87      0.76      0.80       793\n",
      "weighted avg       0.91      0.92      0.91       793\n",
      "\n",
      "Accuracy score for testing set:  0.9155107187894073\n",
      "F1 score for testing set:  0.6564102564102564\n",
      "Recall score for testing set:  0.5470085470085471\n",
      "Precision score for testing set:  0.8205128205128205\n"
=======
      "           0       0.92      0.97      0.95       676\n",
      "           1       0.79      0.54      0.64       117\n",
      "\n",
      "    accuracy                           0.91       793\n",
      "   macro avg       0.86      0.76      0.79       793\n",
      "weighted avg       0.90      0.91      0.90       793\n",
      "\n",
      "Accuracy score for testing set:  0.9104665825977302\n",
      "F1 score for testing set:  0.6395939086294417\n",
      "Recall score for testing set:  0.5384615384615384\n",
      "Precision score for testing set:  0.7875\n"
>>>>>>> origin/master
     ]
    }
   ],
   "source": [
    "print(classification_report(y_test, y_pred_f2))\n",
    "print('Accuracy score for testing set: ',accuracy_score(y_test,y_pred_f2))\n",
    "print('F1 score for testing set: ',f1_score(y_test,y_pred_f2))\n",
    "print('Recall score for testing set: ',recall_score(y_test,y_pred_f2))\n",
    "print('Precision score for testing set: ',precision_score(y_test,y_pred_f2))"
   ]
  },
  {
   "cell_type": "code",
<<<<<<< HEAD
   "execution_count": 75,
=======
   "execution_count": 89,
>>>>>>> origin/master
   "metadata": {},
   "outputs": [
    {
     "data": {
<<<<<<< HEAD
      "image/png": "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",
=======
      "image/png": "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",
>>>>>>> origin/master
      "text/plain": [
       "<Figure size 360x216 with 2 Axes>"
      ]
     },
     "metadata": {
      "needs_background": "light"
     },
     "output_type": "display_data"
    }
   ],
   "source": [
    "cm_rf = confusion_matrix(y_test, y_pred_f2)\n",
    "f, ax= plt.subplots(1,1,figsize=(5,3))\n",
    "sns.heatmap(cm_rf, annot=True, cmap='Oranges', fmt='g', ax=ax);\n",
    "ax.set_xlabel('Predicted Labels'); ax.set_ylabel('True Labels') ; ax.set_title('Confusion Matrix')\n",
    "ax.xaxis.set_ticklabels(['0', '1']) ; ax.yaxis.set_ticklabels(['0', '1'])\n",
    "plt.show();"
   ]
  },
  {
   "cell_type": "code",
<<<<<<< HEAD
   "execution_count": 76,
=======
   "execution_count": 90,
>>>>>>> origin/master
   "metadata": {},
   "outputs": [
    {
     "data": {
<<<<<<< HEAD
      "image/png": "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",
=======
      "image/png": "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",
>>>>>>> origin/master
      "text/plain": [
       "<Figure size 432x288 with 1 Axes>"
      ]
     },
     "metadata": {
      "needs_background": "light"
     },
     "output_type": "display_data"
    }
   ],
   "source": [
    "randomf2 = RandomForestClassifier(max_depth=20, min_samples_split=5, n_estimators=500, criterion='entropy')\n",
    "randomf2.fit(X_train_sm, y_train_sm)\n",
    "y_pred_prob_f2 = randomf2.predict_proba(X_test)[:, 1]\n",
    "\n",
    "fpr, tpr, thresholds = roc_curve(y_test, y_pred_prob_f2)\n",
    "auc = roc_auc_score(y_test, y_pred_prob_f2)\n",
    "\n",
    "plt.plot(fpr, tpr, label='Random Forest (AUC = {:.3f})'.format(auc))\n",
    "plt.plot([0, 1], [0, 1], color='orange', linestyle='--')\n",
    "\n",
    "plt.xlabel('False Positive Rate')\n",
    "plt.ylabel('True Positive Rate')\n",
    "plt.title('Receiver Operating Characteristic (ROC) Curve')\n",
    "plt.legend(loc='lower right')\n",
    "\n",
    "plt.show()\n"
   ]
  },
  {
   "attachments": {},
   "cell_type": "markdown",
   "metadata": {},
   "source": [
    "After tuning my model, my ROC curve has barely improved. The acccuracy score and the F1 score have also remained relativelt the same."
   ]
  },
  {
   "attachments": {},
   "cell_type": "markdown",
   "metadata": {},
   "source": [
    "## Using Pipelines(Random Forest)"
   ]
  },
  {
   "cell_type": "code",
<<<<<<< HEAD
   "execution_count": 77,
=======
   "execution_count": 105,
>>>>>>> origin/master
   "metadata": {},
   "outputs": [
    {
     "data": {
      "text/plain": [
       "0.8726355611601513"
      ]
     },
<<<<<<< HEAD
     "execution_count": 77,
=======
     "execution_count": 105,
>>>>>>> origin/master
     "metadata": {},
     "output_type": "execute_result"
    }
   ],
   "source": [
    "# Build a pipeline with StandardScaler and RandomForestClassifier\n",
    "scaled_pipeline_2 = Pipeline([('ss', StandardScaler()), \n",
    "                              ('RF', RandomForestClassifier(random_state=123))])\n",
    "\n",
    "# Define the grid\n",
    "grid = [{'RF__max_depth': [4, 5, 6], \n",
    "         'RF__min_samples_split': [2, 5, 10], \n",
    "         'RF__min_samples_leaf': [1, 3, 5]}]\n",
    "\n",
    "# Define a grid search\n",
    "gridsearch = GridSearchCV(estimator=scaled_pipeline_2, \n",
    "                          param_grid=grid, \n",
    "                          scoring='accuracy', \n",
    "                          cv=5)\n",
    "\n",
    "# Fit the training data\n",
    "gridsearch.fit(X_train, y_train)\n",
    "\n",
    "y_pred_p = gridsearch.predict(X_test)\n",
    "\n",
    "# Print the accuracy on test set\n",
    "gridsearch.score(X_test, y_test)"
   ]
  },
  {
   "cell_type": "code",
<<<<<<< HEAD
   "execution_count": 78,
=======
   "execution_count": 106,
>>>>>>> origin/master
   "metadata": {},
   "outputs": [
    {
     "name": "stdout",
     "output_type": "stream",
     "text": [
      "              precision    recall  f1-score   support\n",
      "\n",
      "           0       0.87      1.00      0.93       676\n",
      "           1       1.00      0.14      0.24       117\n",
      "\n",
      "    accuracy                           0.87       793\n",
      "   macro avg       0.94      0.57      0.59       793\n",
      "weighted avg       0.89      0.87      0.83       793\n",
      "\n",
      "Accuracy score for testing set:  0.8726355611601513\n",
      "F1 score for testing set:  0.24060150375939854\n",
      "Recall score for testing set:  0.13675213675213677\n",
      "Precision score for testing set:  1.0\n"
     ]
    }
   ],
   "source": [
    "print(classification_report(y_test, y_pred_p))\n",
    "print('Accuracy score for testing set: ',accuracy_score(y_test,y_pred_p))\n",
    "print('F1 score for testing set: ',f1_score(y_test,y_pred_p))\n",
    "print('Recall score for testing set: ',recall_score(y_test,y_pred_p))\n",
    "print('Precision score for testing set: ',precision_score(y_test,y_pred_p))"
   ]
  },
  {
   "attachments": {},
   "cell_type": "markdown",
   "metadata": {},
   "source": [
    "## Recommendations"
   ]
  },
  {
   "attachments": {},
   "cell_type": "markdown",
   "metadata": {},
   "source": [
    "In Logistic Regression the accuracy score of 0.707 suggests that the model's overall performance on the testing set is moderate.\n",
    "The F1 score of 0.383 indicates that the model has a relatively low balance between precision and recall.\n",
    "The recall score of 0.615 implies that the model is better at identifying positive cases compared to precision.\n",
    "The precision score of 0.278 indicates that the model has a relatively low ability to correctly identify positive cases.\n",
    "Consider exploring ways to improve the F1 score, such as adjusting the classification threshold or trying different feature engineering techniques.\n",
    "\n",
    "In Decision trees The accuracy score of 0.851 suggests that the model's overall performance on the testing set is good.\n",
    "The F1 score of 0.576 indicates a moderate balance between precision and recall.\n",
    "The recall score of 0.684 suggests that the model is relatively good at identifying positive cases.\n",
    "The precision score of 0.497 suggests that the model has room for improvement in correctly identifying positive cases.\n",
    "Consider evaluating the decision tree's depth and other hyperparameters to fine-tune the model's performance.\n",
    "\n",
    "Random Forest did quite well overall on the testing set, as seen by the accuracy score of 0.913.\n",
    "The F1 score of 0.650 indicates that accuracy and recall are generally well-balanced.\n",
    "Recall score of 0.547 indicates that the model would struggle to recognize positive cases.\n",
    "With an accuracy score of 0.800, it is possible to fairly accurately identify affirmative cases.\n",
    "The model appears to have a strong capacity to distinguish between positive and negative situations, according to the ROC score of 0.871.\n",
    "The Random Forest model appears to be functioning well overall. \n",
    "\n",
    "After model tuning and optimization, Random forest classification results remained almost the same.\n"
   ]
  }
 ],
 "metadata": {
  "kernelspec": {
   "display_name": "learn-env",
   "language": "python",
   "name": "python3"
  },
  "language_info": {
   "codemirror_mode": {
    "name": "ipython",
    "version": 3
   },
   "file_extension": ".py",
   "mimetype": "text/x-python",
   "name": "python",
   "nbconvert_exporter": "python",
   "pygments_lexer": "ipython3",
   "version": "3.8.5"
  },
  "orig_nbformat": 4
 },
 "nbformat": 4,
 "nbformat_minor": 2
}
